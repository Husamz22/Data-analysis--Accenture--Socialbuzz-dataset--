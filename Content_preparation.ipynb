{
 "cells": [
  {
   "cell_type": "code",
   "execution_count": 1,
   "id": "3c36a882-288f-459d-ab33-9fac594aaea0",
   "metadata": {},
   "outputs": [],
   "source": [
    "import pandas as pd\n",
    "import numpy as np\n",
    "import matplotlib.pyplot as plt"
   ]
  },
  {
   "cell_type": "code",
   "execution_count": 2,
   "id": "a343dd93-6530-4bf0-9ac0-9d8ac0647e3c",
   "metadata": {},
   "outputs": [],
   "source": [
    "df = pd.read_csv('Content.csv')"
   ]
  },
  {
   "cell_type": "code",
   "execution_count": 3,
   "id": "fbc7da49-55c4-43ad-9910-d22d0562e9d0",
   "metadata": {},
   "outputs": [],
   "source": [
    "df= df.drop(['Unnamed: 0'], axis=1)"
   ]
  },
  {
   "cell_type": "code",
   "execution_count": 4,
   "id": "0266876b-8b48-440e-ab9d-c3842c9aea31",
   "metadata": {},
   "outputs": [
    {
     "data": {
      "text/html": [
       "<div>\n",
       "<style scoped>\n",
       "    .dataframe tbody tr th:only-of-type {\n",
       "        vertical-align: middle;\n",
       "    }\n",
       "\n",
       "    .dataframe tbody tr th {\n",
       "        vertical-align: top;\n",
       "    }\n",
       "\n",
       "    .dataframe thead th {\n",
       "        text-align: right;\n",
       "    }\n",
       "</style>\n",
       "<table border=\"1\" class=\"dataframe\">\n",
       "  <thead>\n",
       "    <tr style=\"text-align: right;\">\n",
       "      <th></th>\n",
       "      <th>Content ID</th>\n",
       "      <th>User ID</th>\n",
       "      <th>Type</th>\n",
       "      <th>Category</th>\n",
       "      <th>URL</th>\n",
       "    </tr>\n",
       "  </thead>\n",
       "  <tbody>\n",
       "    <tr>\n",
       "      <th>0</th>\n",
       "      <td>97522e57-d9ab-4bd6-97bf-c24d952602d2</td>\n",
       "      <td>8d3cd87d-8a31-4935-9a4f-b319bfe05f31</td>\n",
       "      <td>photo</td>\n",
       "      <td>Studying</td>\n",
       "      <td>https://socialbuzz.cdn.com/content/storage/975...</td>\n",
       "    </tr>\n",
       "    <tr>\n",
       "      <th>1</th>\n",
       "      <td>9f737e0a-3cdd-4d29-9d24-753f4e3be810</td>\n",
       "      <td>beb1f34e-7870-46d6-9fc7-2e12eb83ce43</td>\n",
       "      <td>photo</td>\n",
       "      <td>healthy eating</td>\n",
       "      <td>https://socialbuzz.cdn.com/content/storage/9f7...</td>\n",
       "    </tr>\n",
       "    <tr>\n",
       "      <th>2</th>\n",
       "      <td>230c4e4d-70c3-461d-b42c-ec09396efb3f</td>\n",
       "      <td>a5c65404-5894-4b87-82f2-d787cbee86b4</td>\n",
       "      <td>photo</td>\n",
       "      <td>healthy eating</td>\n",
       "      <td>https://socialbuzz.cdn.com/content/storage/230...</td>\n",
       "    </tr>\n",
       "    <tr>\n",
       "      <th>3</th>\n",
       "      <td>356fff80-da4d-4785-9f43-bc1261031dc6</td>\n",
       "      <td>9fb4ce88-fac1-406c-8544-1a899cee7aaf</td>\n",
       "      <td>photo</td>\n",
       "      <td>technology</td>\n",
       "      <td>https://socialbuzz.cdn.com/content/storage/356...</td>\n",
       "    </tr>\n",
       "    <tr>\n",
       "      <th>4</th>\n",
       "      <td>01ab84dd-6364-4236-abbb-3f237db77180</td>\n",
       "      <td>e206e31b-5f85-4964-b6ea-d7ee5324def1</td>\n",
       "      <td>video</td>\n",
       "      <td>food</td>\n",
       "      <td>https://socialbuzz.cdn.com/content/storage/01a...</td>\n",
       "    </tr>\n",
       "  </tbody>\n",
       "</table>\n",
       "</div>"
      ],
      "text/plain": [
       "                             Content ID                               User ID  \\\n",
       "0  97522e57-d9ab-4bd6-97bf-c24d952602d2  8d3cd87d-8a31-4935-9a4f-b319bfe05f31   \n",
       "1  9f737e0a-3cdd-4d29-9d24-753f4e3be810  beb1f34e-7870-46d6-9fc7-2e12eb83ce43   \n",
       "2  230c4e4d-70c3-461d-b42c-ec09396efb3f  a5c65404-5894-4b87-82f2-d787cbee86b4   \n",
       "3  356fff80-da4d-4785-9f43-bc1261031dc6  9fb4ce88-fac1-406c-8544-1a899cee7aaf   \n",
       "4  01ab84dd-6364-4236-abbb-3f237db77180  e206e31b-5f85-4964-b6ea-d7ee5324def1   \n",
       "\n",
       "    Type        Category                                                URL  \n",
       "0  photo        Studying  https://socialbuzz.cdn.com/content/storage/975...  \n",
       "1  photo  healthy eating  https://socialbuzz.cdn.com/content/storage/9f7...  \n",
       "2  photo  healthy eating  https://socialbuzz.cdn.com/content/storage/230...  \n",
       "3  photo      technology  https://socialbuzz.cdn.com/content/storage/356...  \n",
       "4  video            food  https://socialbuzz.cdn.com/content/storage/01a...  "
      ]
     },
     "execution_count": 4,
     "metadata": {},
     "output_type": "execute_result"
    }
   ],
   "source": [
    "df.head()"
   ]
  },
  {
   "cell_type": "code",
   "execution_count": 5,
   "id": "9fec7624-5ef7-4182-82c9-623c0c300f96",
   "metadata": {},
   "outputs": [
    {
     "name": "stdout",
     "output_type": "stream",
     "text": [
      "<class 'pandas.core.frame.DataFrame'>\n",
      "RangeIndex: 1000 entries, 0 to 999\n",
      "Data columns (total 5 columns):\n",
      " #   Column      Non-Null Count  Dtype \n",
      "---  ------      --------------  ----- \n",
      " 0   Content ID  1000 non-null   object\n",
      " 1   User ID     1000 non-null   object\n",
      " 2   Type        1000 non-null   object\n",
      " 3   Category    1000 non-null   object\n",
      " 4   URL         801 non-null    object\n",
      "dtypes: object(5)\n",
      "memory usage: 39.2+ KB\n"
     ]
    }
   ],
   "source": [
    "df.info()"
   ]
  },
  {
   "cell_type": "code",
   "execution_count": 6,
   "id": "f7d3a816-164c-4b6a-9ec8-d1776426661c",
   "metadata": {},
   "outputs": [
    {
     "data": {
      "text/plain": [
       "Type\n",
       "audio    236\n",
       "GIF      244\n",
       "video    259\n",
       "photo    261\n",
       "Name: count, dtype: int64"
      ]
     },
     "execution_count": 6,
     "metadata": {},
     "output_type": "execute_result"
    }
   ],
   "source": [
    "df['Type'].value_counts().sort_values(ascending= True)\n",
    "\n",
    "#This shows that Photo content is the most common but with no real difference than the other types"
   ]
  },
  {
   "cell_type": "code",
   "execution_count": 7,
   "id": "d10d99f4-5613-4e4a-b7ea-b79f29219962",
   "metadata": {},
   "outputs": [
    {
     "data": {
      "text/plain": [
       "Category\n",
       "\"science\"             1\n",
       "\"veganism\"            1\n",
       "\"public speaking\"     1\n",
       "Public Speaking       1\n",
       "\"cooking\"             1\n",
       "Healthy Eating        1\n",
       "\"technology\"          1\n",
       "\"food\"                1\n",
       "Culture               1\n",
       "\"tennis\"              1\n",
       "Technology            1\n",
       "\"animals\"             1\n",
       "\"studying\"            1\n",
       "Veganism              1\n",
       "Food                  2\n",
       "Travel                2\n",
       "Studying              2\n",
       "Education             2\n",
       "\"dogs\"                2\n",
       "Soccer                3\n",
       "\"culture\"             3\n",
       "\"soccer\"              3\n",
       "Science               4\n",
       "Animals               4\n",
       "Fitness               5\n",
       "public speaking      48\n",
       "veganism             48\n",
       "studying             55\n",
       "dogs                 56\n",
       "education            57\n",
       "soccer               58\n",
       "tennis               58\n",
       "cooking              60\n",
       "healthy eating       61\n",
       "food                 61\n",
       "fitness              61\n",
       "science              63\n",
       "culture              63\n",
       "travel               67\n",
       "animals              67\n",
       "technology           71\n",
       "Name: count, dtype: int64"
      ]
     },
     "execution_count": 7,
     "metadata": {},
     "output_type": "execute_result"
    }
   ],
   "source": [
    "df['Category'].value_counts().sort_values(ascending= True)\n",
    "\n",
    "#While trying to see the most famous category i noticed some extra \"\" and capital letters"
   ]
  },
  {
   "cell_type": "code",
   "execution_count": 8,
   "id": "1daea8a8-6db0-4fa4-a9ea-a011b5dbb941",
   "metadata": {},
   "outputs": [],
   "source": [
    "# We remove the \"\" and make everything small letter \n",
    "df['Category'] = df['Category'].str.replace('\"','')"
   ]
  },
  {
   "cell_type": "code",
   "execution_count": 9,
   "id": "43535a08-541a-41f4-a2c1-44cafe2dc6ed",
   "metadata": {},
   "outputs": [
    {
     "name": "stdout",
     "output_type": "stream",
     "text": [
      "<class 'pandas.core.frame.DataFrame'>\n",
      "RangeIndex: 1000 entries, 0 to 999\n",
      "Data columns (total 5 columns):\n",
      " #   Column      Non-Null Count  Dtype \n",
      "---  ------      --------------  ----- \n",
      " 0   Content ID  1000 non-null   object\n",
      " 1   User ID     1000 non-null   object\n",
      " 2   Type        1000 non-null   object\n",
      " 3   Category    1000 non-null   object\n",
      " 4   URL         801 non-null    object\n",
      "dtypes: object(5)\n",
      "memory usage: 39.2+ KB\n"
     ]
    }
   ],
   "source": [
    "df.info()"
   ]
  },
  {
   "cell_type": "code",
   "execution_count": 10,
   "id": "374881b0-98a2-4e0c-a00f-3ef713fcee48",
   "metadata": {},
   "outputs": [
    {
     "data": {
      "text/plain": [
       "Category\n",
       "technology         72\n",
       "animals            68\n",
       "travel             67\n",
       "culture            66\n",
       "science            64\n",
       "food               62\n",
       "healthy eating     61\n",
       "cooking            61\n",
       "soccer             61\n",
       "fitness            61\n",
       "tennis             59\n",
       "dogs               58\n",
       "education          57\n",
       "studying           56\n",
       "veganism           49\n",
       "public speaking    49\n",
       "Fitness             5\n",
       "Animals             4\n",
       "Science             4\n",
       "Soccer              3\n",
       "Food                2\n",
       "Studying            2\n",
       "Education           2\n",
       "Travel              2\n",
       "Technology          1\n",
       "Culture             1\n",
       "Healthy Eating      1\n",
       "Veganism            1\n",
       "Public Speaking     1\n",
       "Name: count, dtype: int64"
      ]
     },
     "execution_count": 10,
     "metadata": {},
     "output_type": "execute_result"
    }
   ],
   "source": [
    "df['Category'].value_counts()"
   ]
  },
  {
   "cell_type": "code",
   "execution_count": 11,
   "id": "d38a3e65-a873-4064-8818-c50dd1a93ee5",
   "metadata": {},
   "outputs": [],
   "source": [
    "df['Category'] = df['Category'].str.lower()"
   ]
  },
  {
   "cell_type": "code",
   "execution_count": 12,
   "id": "6c562fd6-1389-447f-bef4-dfec76aa3a04",
   "metadata": {},
   "outputs": [
    {
     "data": {
      "text/plain": [
       "(Category\n",
       " technology         73\n",
       " animals            72\n",
       " travel             69\n",
       " science            68\n",
       " culture            67\n",
       " fitness            66\n",
       " food               64\n",
       " soccer             64\n",
       " healthy eating     62\n",
       " cooking            61\n",
       " tennis             59\n",
       " education          59\n",
       " studying           58\n",
       " dogs               58\n",
       " public speaking    50\n",
       " veganism           50\n",
       " Name: count, dtype: int64,\n",
       " 16)"
      ]
     },
     "execution_count": 12,
     "metadata": {},
     "output_type": "execute_result"
    }
   ],
   "source": [
    "x = df['Category'].value_counts(), df['Category'].value_counts().count()\n",
    "x\n",
    "\n",
    "#We have now 16 different Content Categories\n",
    "#with technology being the most common content"
   ]
  },
  {
   "cell_type": "code",
   "execution_count": 13,
   "id": "aced155f-af89-40bc-8521-cd33458c72da",
   "metadata": {},
   "outputs": [
    {
     "name": "stdout",
     "output_type": "stream",
     "text": [
      "<class 'pandas.core.frame.DataFrame'>\n",
      "RangeIndex: 1000 entries, 0 to 999\n",
      "Data columns (total 5 columns):\n",
      " #   Column      Non-Null Count  Dtype \n",
      "---  ------      --------------  ----- \n",
      " 0   Content ID  1000 non-null   object\n",
      " 1   User ID     1000 non-null   object\n",
      " 2   Type        1000 non-null   object\n",
      " 3   Category    1000 non-null   object\n",
      " 4   URL         801 non-null    object\n",
      "dtypes: object(5)\n",
      "memory usage: 39.2+ KB\n"
     ]
    }
   ],
   "source": [
    "df.info()"
   ]
  },
  {
   "cell_type": "code",
   "execution_count": 14,
   "id": "9ae2adc3-23c6-468e-9311-f4657ff5a026",
   "metadata": {},
   "outputs": [],
   "source": [
    "df = df.drop(['User ID'], axis=1)"
   ]
  },
  {
   "cell_type": "code",
   "execution_count": 16,
   "id": "c14841e1-bdee-403e-a23b-fb258f53a1c3",
   "metadata": {},
   "outputs": [
    {
     "name": "stdout",
     "output_type": "stream",
     "text": [
      "<class 'pandas.core.frame.DataFrame'>\n",
      "RangeIndex: 1000 entries, 0 to 999\n",
      "Data columns (total 4 columns):\n",
      " #   Column      Non-Null Count  Dtype \n",
      "---  ------      --------------  ----- \n",
      " 0   Content ID  1000 non-null   object\n",
      " 1   Type        1000 non-null   object\n",
      " 2   Category    1000 non-null   object\n",
      " 3   URL         801 non-null    object\n",
      "dtypes: object(4)\n",
      "memory usage: 31.4+ KB\n"
     ]
    }
   ],
   "source": [
    "df.info()"
   ]
  },
  {
   "cell_type": "code",
   "execution_count": 17,
   "id": "7b009f3c-c180-416c-ab78-8296e8e8c6b3",
   "metadata": {},
   "outputs": [],
   "source": [
    "df.to_csv('Content_Cleaned.csv')"
   ]
  },
  {
   "cell_type": "code",
   "execution_count": null,
   "id": "1ccc1ded-b5d1-4852-a7b3-01e51bfa8c30",
   "metadata": {},
   "outputs": [],
   "source": []
  }
 ],
 "metadata": {
  "kernelspec": {
   "display_name": "Python 3 (ipykernel)",
   "language": "python",
   "name": "python3"
  },
  "language_info": {
   "codemirror_mode": {
    "name": "ipython",
    "version": 3
   },
   "file_extension": ".py",
   "mimetype": "text/x-python",
   "name": "python",
   "nbconvert_exporter": "python",
   "pygments_lexer": "ipython3",
   "version": "3.10.4"
  }
 },
 "nbformat": 4,
 "nbformat_minor": 5
}
