{
 "cells": [
  {
   "cell_type": "code",
   "execution_count": 7,
   "id": "23962bad-b4e8-4a64-a84e-771ee9109905",
   "metadata": {},
   "outputs": [],
   "source": [
    "import pandas as pd\n",
    "import matplotlib.pyplot as plt\n",
    "import numpy as np"
   ]
  },
  {
   "cell_type": "code",
   "execution_count": 8,
   "id": "650afe34-c7d6-4657-bbee-69648657599c",
   "metadata": {},
   "outputs": [],
   "source": [
    "Content = pd.read_csv('Content_Cleaned.csv', index_col=0)\n",
    "Reactions = pd.read_csv('Reactions_Cleaned.csv', index_col=0)\n",
    "ReactionsTypes = pd.read_csv('ReactionTypes_Cleaned.csv', index_col=0)"
   ]
  },
  {
   "cell_type": "code",
   "execution_count": 9,
   "id": "cacff82e-7e13-41cd-ab4c-28d750384d4c",
   "metadata": {},
   "outputs": [],
   "source": [
    "df = Reactions.merge(ReactionsTypes, on='Type', how='left')"
   ]
  },
  {
   "cell_type": "code",
   "execution_count": 10,
   "id": "96eeb3e6-e28d-440d-9dc5-4489d0988e58",
   "metadata": {},
   "outputs": [],
   "source": [
    "df = df.merge(Content, on='Content ID', how='left')"
   ]
  },
  {
   "cell_type": "code",
   "execution_count": 35,
   "id": "b9506ef4-52f4-477d-814e-63f0bf8c4521",
   "metadata": {},
   "outputs": [
    {
     "name": "stdout",
     "output_type": "stream",
     "text": [
      "<class 'pandas.core.frame.DataFrame'>\n",
      "RangeIndex: 22534 entries, 0 to 22533\n",
      "Data columns (total 9 columns):\n",
      " #   Column      Non-Null Count  Dtype \n",
      "---  ------      --------------  ----- \n",
      " 0   Content ID  22534 non-null  object\n",
      " 1   Type_x      22534 non-null  object\n",
      " 2   Date        22534 non-null  object\n",
      " 3   Time        22534 non-null  object\n",
      " 4   Sentiment   22534 non-null  object\n",
      " 5   Score       22534 non-null  int64 \n",
      " 6   Type_y      22534 non-null  object\n",
      " 7   Category    22534 non-null  object\n",
      " 8   URL         18384 non-null  object\n",
      "dtypes: int64(1), object(8)\n",
      "memory usage: 1.5+ MB\n"
     ]
    },
    {
     "data": {
      "text/plain": [
       "(                             Content ID      Type_x        Date  \\\n",
       " 0  97522e57-d9ab-4bd6-97bf-c24d952602d2     disgust  2020-11-07   \n",
       " 1  97522e57-d9ab-4bd6-97bf-c24d952602d2     dislike  2021-06-17   \n",
       " 2  97522e57-d9ab-4bd6-97bf-c24d952602d2      scared  2021-04-18   \n",
       " 3  97522e57-d9ab-4bd6-97bf-c24d952602d2     disgust  2021-01-06   \n",
       " 4  97522e57-d9ab-4bd6-97bf-c24d952602d2  interested  2020-08-23   \n",
       " \n",
       "                   Time Sentiment  Score Type_y  Category  \\\n",
       " 0  1900-01-01 09:43:50  negative      0  photo  studying   \n",
       " 1  1900-01-01 12:22:51  negative     10  photo  studying   \n",
       " 2  1900-01-01 05:13:58  negative     15  photo  studying   \n",
       " 3  1900-01-01 19:13:01  negative      0  photo  studying   \n",
       " 4  1900-01-01 12:25:58  positive     30  photo  studying   \n",
       " \n",
       "                                                  URL  \n",
       " 0  https://socialbuzz.cdn.com/content/storage/975...  \n",
       " 1  https://socialbuzz.cdn.com/content/storage/975...  \n",
       " 2  https://socialbuzz.cdn.com/content/storage/975...  \n",
       " 3  https://socialbuzz.cdn.com/content/storage/975...  \n",
       " 4  https://socialbuzz.cdn.com/content/storage/975...  ,\n",
       " None)"
      ]
     },
     "execution_count": 35,
     "metadata": {},
     "output_type": "execute_result"
    }
   ],
   "source": [
    "df.head(), df.info()"
   ]
  },
  {
   "cell_type": "code",
   "execution_count": 113,
   "id": "2663d704-1645-4f2f-937b-770454b9f0e2",
   "metadata": {},
   "outputs": [
    {
     "name": "stdout",
     "output_type": "stream",
     "text": [
      "Category\n",
      "animals            68624\n",
      "science            65405\n",
      "healthy eating     63138\n",
      "technology         63035\n",
      "food               61598\n",
      "culture            60663\n",
      "travel             59358\n",
      "cooking            59174\n",
      "soccer             53216\n",
      "education          52759\n",
      "fitness            50835\n",
      "studying           49442\n",
      "dogs               48398\n",
      "tennis             46185\n",
      "veganism           45901\n",
      "public speaking    45751\n",
      "Name: Score, dtype: int64\n",
      "Category\n",
      "education           62\n",
      "public speaking     62\n",
      "veganism            62\n",
      "studying            71\n",
      "dogs                77\n",
      "soccer              83\n",
      "tennis              89\n",
      "culture             92\n",
      "fitness             93\n",
      "food                97\n",
      "healthy eating      98\n",
      "cooking            100\n",
      "science            103\n",
      "technology         103\n",
      "travel             106\n",
      "animals            108\n",
      "Name: Score, dtype: int64\n",
      "16\n",
      "number of rows for most famous category \"animals\":1738\n",
      "months\n",
      "2021-05    1954\n",
      "2021-01    1949\n",
      "2020-08    1945\n",
      "2020-12    1941\n",
      "2020-10    1889\n",
      "2020-07    1884\n",
      "2020-11    1866\n",
      "2020-09    1862\n",
      "2021-03    1857\n",
      "2021-04    1801\n",
      "2021-02    1750\n",
      "2021-06    1028\n",
      "2020-06     808\n",
      "Freq: M, dtype: int64\n"
     ]
    }
   ],
   "source": [
    "reviews_score_per_category = df.groupby('Category')['Score'].sum().sort_values(ascending=False)\n",
    "print(reviews_score_per_category)\n",
    "\n",
    "bad_reviews_score_per_category = df.groupby('Category')['Score'].apply(lambda x: (x == 0).sum()).sort_values()\n",
    "print(bad_reviews_score_per_category)\n",
    "\n",
    "num_of_catgs = df['Category'].nunique()\n",
    "print(num_of_catgs)\n",
    "\n",
    "reaction_per_pop_catgs = (df['Category'] == 'animals').sum()\n",
    "print(f'number of rows for most famous category \"animals\":{reaction_per_pop_catgs}')\n",
    "\n",
    "df['Date'] = pd.to_datetime(df['Date'])\n",
    "df['months'] = df['Date'].dt.to_period('M')\n",
    "famous_month = df.groupby('months').size().sort_values(ascending=False)\n",
    "print(famous_month)"
   ]
  },
  {
   "cell_type": "code",
   "execution_count": 100,
   "id": "e2141e02-cf4f-45c5-9553-9ac609a1b4af",
   "metadata": {},
   "outputs": [],
   "source": [
    "df = df.drop(['Time'], axis=1)"
   ]
  },
  {
   "cell_type": "code",
   "execution_count": 114,
   "id": "64fcb74b-32a7-4790-87cd-ebe14d7cb58b",
   "metadata": {},
   "outputs": [],
   "source": [
    "df.to_csv('insights.csv')"
   ]
  },
  {
   "cell_type": "code",
   "execution_count": null,
   "id": "b9dd7328-c0fb-4635-a916-ec543e8f3532",
   "metadata": {},
   "outputs": [],
   "source": []
  }
 ],
 "metadata": {
  "kernelspec": {
   "display_name": "Python 3 (ipykernel)",
   "language": "python",
   "name": "python3"
  },
  "language_info": {
   "codemirror_mode": {
    "name": "ipython",
    "version": 3
   },
   "file_extension": ".py",
   "mimetype": "text/x-python",
   "name": "python",
   "nbconvert_exporter": "python",
   "pygments_lexer": "ipython3",
   "version": "3.10.4"
  }
 },
 "nbformat": 4,
 "nbformat_minor": 5
}
