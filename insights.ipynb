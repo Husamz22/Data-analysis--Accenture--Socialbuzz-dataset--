{
 "cells": [
  {
   "cell_type": "code",
   "execution_count": 1,
   "id": "04db77be-d1ff-40e0-8ab8-75b02758d8b7",
   "metadata": {},
   "outputs": [],
   "source": [
    "import pandas as pd\n",
    "import numpy as np"
   ]
  },
  {
   "cell_type": "code",
   "execution_count": 2,
   "id": "6f7a9eef-9736-4565-b9ad-fae3df35a799",
   "metadata": {},
   "outputs": [],
   "source": [
    "df = pd.read_csv('Merged_Tables.CSV')"
   ]
  },
  {
   "cell_type": "code",
   "execution_count": 3,
   "id": "e2f6de00-bb4b-4bf5-b36c-797b06ca71ee",
   "metadata": {},
   "outputs": [
    {
     "data": {
      "text/html": [
       "<div>\n",
       "<style scoped>\n",
       "    .dataframe tbody tr th:only-of-type {\n",
       "        vertical-align: middle;\n",
       "    }\n",
       "\n",
       "    .dataframe tbody tr th {\n",
       "        vertical-align: top;\n",
       "    }\n",
       "\n",
       "    .dataframe thead th {\n",
       "        text-align: right;\n",
       "    }\n",
       "</style>\n",
       "<table border=\"1\" class=\"dataframe\">\n",
       "  <thead>\n",
       "    <tr style=\"text-align: right;\">\n",
       "      <th></th>\n",
       "      <th>Unnamed: 0</th>\n",
       "      <th>Content ID</th>\n",
       "      <th>Type_x</th>\n",
       "      <th>Datetime</th>\n",
       "      <th>Sentiment</th>\n",
       "      <th>Score</th>\n",
       "      <th>Type_y</th>\n",
       "      <th>Category</th>\n",
       "    </tr>\n",
       "  </thead>\n",
       "  <tbody>\n",
       "    <tr>\n",
       "      <th>0</th>\n",
       "      <td>0</td>\n",
       "      <td>97522e57-d9ab-4bd6-97bf-c24d952602d2</td>\n",
       "      <td>disgust</td>\n",
       "      <td>11/7/2020 9:43</td>\n",
       "      <td>negative</td>\n",
       "      <td>0</td>\n",
       "      <td>photo</td>\n",
       "      <td>Studying</td>\n",
       "    </tr>\n",
       "    <tr>\n",
       "      <th>1</th>\n",
       "      <td>1</td>\n",
       "      <td>97522e57-d9ab-4bd6-97bf-c24d952602d2</td>\n",
       "      <td>dislike</td>\n",
       "      <td>6/17/2021 12:22</td>\n",
       "      <td>negative</td>\n",
       "      <td>10</td>\n",
       "      <td>photo</td>\n",
       "      <td>Studying</td>\n",
       "    </tr>\n",
       "    <tr>\n",
       "      <th>2</th>\n",
       "      <td>2</td>\n",
       "      <td>97522e57-d9ab-4bd6-97bf-c24d952602d2</td>\n",
       "      <td>scared</td>\n",
       "      <td>4/18/2021 5:13</td>\n",
       "      <td>negative</td>\n",
       "      <td>15</td>\n",
       "      <td>photo</td>\n",
       "      <td>Studying</td>\n",
       "    </tr>\n",
       "    <tr>\n",
       "      <th>3</th>\n",
       "      <td>3</td>\n",
       "      <td>97522e57-d9ab-4bd6-97bf-c24d952602d2</td>\n",
       "      <td>disgust</td>\n",
       "      <td>1/6/2021 19:13</td>\n",
       "      <td>negative</td>\n",
       "      <td>0</td>\n",
       "      <td>photo</td>\n",
       "      <td>Studying</td>\n",
       "    </tr>\n",
       "    <tr>\n",
       "      <th>4</th>\n",
       "      <td>4</td>\n",
       "      <td>97522e57-d9ab-4bd6-97bf-c24d952602d2</td>\n",
       "      <td>interested</td>\n",
       "      <td>8/23/2020 12:25</td>\n",
       "      <td>positive</td>\n",
       "      <td>30</td>\n",
       "      <td>photo</td>\n",
       "      <td>Studying</td>\n",
       "    </tr>\n",
       "  </tbody>\n",
       "</table>\n",
       "</div>"
      ],
      "text/plain": [
       "   Unnamed: 0                            Content ID      Type_x  \\\n",
       "0           0  97522e57-d9ab-4bd6-97bf-c24d952602d2     disgust   \n",
       "1           1  97522e57-d9ab-4bd6-97bf-c24d952602d2     dislike   \n",
       "2           2  97522e57-d9ab-4bd6-97bf-c24d952602d2      scared   \n",
       "3           3  97522e57-d9ab-4bd6-97bf-c24d952602d2     disgust   \n",
       "4           4  97522e57-d9ab-4bd6-97bf-c24d952602d2  interested   \n",
       "\n",
       "          Datetime Sentiment  Score Type_y  Category  \n",
       "0   11/7/2020 9:43  negative      0  photo  Studying  \n",
       "1  6/17/2021 12:22  negative     10  photo  Studying  \n",
       "2   4/18/2021 5:13  negative     15  photo  Studying  \n",
       "3   1/6/2021 19:13  negative      0  photo  Studying  \n",
       "4  8/23/2020 12:25  positive     30  photo  Studying  "
      ]
     },
     "execution_count": 3,
     "metadata": {},
     "output_type": "execute_result"
    }
   ],
   "source": [
    "df.head()"
   ]
  },
  {
   "cell_type": "code",
   "execution_count": 14,
   "id": "b4a0cac9-a46d-4897-8a2f-5b761deabdde",
   "metadata": {},
   "outputs": [
    {
     "name": "stdout",
     "output_type": "stream",
     "text": [
      "there are 40 categories and they are ['Studying' 'healthy eating' 'technology' 'food' 'cooking' 'dogs' 'soccer'\n",
      " 'public speaking' 'science' 'tennis' 'travel' 'fitness' 'education'\n",
      " 'studying' 'veganism' 'Animals' 'animals' 'culture' '\"culture\"' 'Fitness'\n",
      " '\"studying\"' 'Veganism' '\"animals\"' 'Travel' '\"soccer\"' 'Education'\n",
      " '\"dogs\"' 'Technology' 'Soccer' 'Culture' '\"food\"' 'Food' '\"technology\"'\n",
      " 'Healthy Eating' '\"cooking\"' 'Science' '\"public speaking\"' '\"veganism\"'\n",
      " 'Public Speaking' '\"science\"']\n"
     ]
    }
   ],
   "source": [
    "num_of_cat = df['Category'].nunique()\n",
    "list_of_cat = df['Category'].unique()\n",
    "print(f'there are {num_of_cat} categories and they are {list_of_cat}')\n",
    "# I noticed that i forgot to remove the \"\" from some of the categories which will result in duplicate categories"
   ]
  },
  {
   "cell_type": "code",
   "execution_count": 15,
   "id": "22997ef0-0844-4b6f-9ef4-cea1c0eafaf1",
   "metadata": {},
   "outputs": [
    {
     "data": {
      "text/html": [
       "<div>\n",
       "<style scoped>\n",
       "    .dataframe tbody tr th:only-of-type {\n",
       "        vertical-align: middle;\n",
       "    }\n",
       "\n",
       "    .dataframe tbody tr th {\n",
       "        vertical-align: top;\n",
       "    }\n",
       "\n",
       "    .dataframe thead th {\n",
       "        text-align: right;\n",
       "    }\n",
       "</style>\n",
       "<table border=\"1\" class=\"dataframe\">\n",
       "  <thead>\n",
       "    <tr style=\"text-align: right;\">\n",
       "      <th></th>\n",
       "      <th>Unnamed: 0</th>\n",
       "      <th>Content ID</th>\n",
       "      <th>Type_x</th>\n",
       "      <th>Datetime</th>\n",
       "      <th>Sentiment</th>\n",
       "      <th>Score</th>\n",
       "      <th>Type_y</th>\n",
       "      <th>Category</th>\n",
       "    </tr>\n",
       "  </thead>\n",
       "  <tbody>\n",
       "    <tr>\n",
       "      <th>0</th>\n",
       "      <td>0</td>\n",
       "      <td>97522e57-d9ab-4bd6-97bf-c24d952602d2</td>\n",
       "      <td>disgust</td>\n",
       "      <td>11/7/2020 9:43</td>\n",
       "      <td>negative</td>\n",
       "      <td>0</td>\n",
       "      <td>photo</td>\n",
       "      <td>Studying</td>\n",
       "    </tr>\n",
       "    <tr>\n",
       "      <th>1</th>\n",
       "      <td>1</td>\n",
       "      <td>97522e57-d9ab-4bd6-97bf-c24d952602d2</td>\n",
       "      <td>dislike</td>\n",
       "      <td>6/17/2021 12:22</td>\n",
       "      <td>negative</td>\n",
       "      <td>10</td>\n",
       "      <td>photo</td>\n",
       "      <td>Studying</td>\n",
       "    </tr>\n",
       "    <tr>\n",
       "      <th>2</th>\n",
       "      <td>2</td>\n",
       "      <td>97522e57-d9ab-4bd6-97bf-c24d952602d2</td>\n",
       "      <td>scared</td>\n",
       "      <td>4/18/2021 5:13</td>\n",
       "      <td>negative</td>\n",
       "      <td>15</td>\n",
       "      <td>photo</td>\n",
       "      <td>Studying</td>\n",
       "    </tr>\n",
       "    <tr>\n",
       "      <th>3</th>\n",
       "      <td>3</td>\n",
       "      <td>97522e57-d9ab-4bd6-97bf-c24d952602d2</td>\n",
       "      <td>disgust</td>\n",
       "      <td>1/6/2021 19:13</td>\n",
       "      <td>negative</td>\n",
       "      <td>0</td>\n",
       "      <td>photo</td>\n",
       "      <td>Studying</td>\n",
       "    </tr>\n",
       "    <tr>\n",
       "      <th>4</th>\n",
       "      <td>4</td>\n",
       "      <td>97522e57-d9ab-4bd6-97bf-c24d952602d2</td>\n",
       "      <td>interested</td>\n",
       "      <td>8/23/2020 12:25</td>\n",
       "      <td>positive</td>\n",
       "      <td>30</td>\n",
       "      <td>photo</td>\n",
       "      <td>Studying</td>\n",
       "    </tr>\n",
       "  </tbody>\n",
       "</table>\n",
       "</div>"
      ],
      "text/plain": [
       "   Unnamed: 0                            Content ID      Type_x  \\\n",
       "0           0  97522e57-d9ab-4bd6-97bf-c24d952602d2     disgust   \n",
       "1           1  97522e57-d9ab-4bd6-97bf-c24d952602d2     dislike   \n",
       "2           2  97522e57-d9ab-4bd6-97bf-c24d952602d2      scared   \n",
       "3           3  97522e57-d9ab-4bd6-97bf-c24d952602d2     disgust   \n",
       "4           4  97522e57-d9ab-4bd6-97bf-c24d952602d2  interested   \n",
       "\n",
       "          Datetime Sentiment  Score Type_y  Category  \n",
       "0   11/7/2020 9:43  negative      0  photo  Studying  \n",
       "1  6/17/2021 12:22  negative     10  photo  Studying  \n",
       "2   4/18/2021 5:13  negative     15  photo  Studying  \n",
       "3   1/6/2021 19:13  negative      0  photo  Studying  \n",
       "4  8/23/2020 12:25  positive     30  photo  Studying  "
      ]
     },
     "execution_count": 15,
     "metadata": {},
     "output_type": "execute_result"
    }
   ],
   "source": [
    "df['Category'] = df['Category'].str.replace('\"','')\n",
    "df.head()"
   ]
  },
  {
   "cell_type": "code",
   "execution_count": 40,
   "id": "b1d22f25-d9ce-4e1a-8b50-802474e08397",
   "metadata": {},
   "outputs": [
    {
     "name": "stdout",
     "output_type": "stream",
     "text": [
      "there are 29 categories and they are ['Studying' 'healthy eating' 'technology' 'food' 'cooking' 'dogs' 'soccer'\n",
      " 'public speaking' 'science' 'tennis' 'travel' 'fitness' 'education'\n",
      " 'studying' 'veganism' 'Animals' 'animals' 'culture' 'Fitness' 'Veganism'\n",
      " 'Travel' 'Education' 'Technology' 'Soccer' 'Culture' 'Food'\n",
      " 'Healthy Eating' 'Science' 'Public Speaking']\n"
     ]
    }
   ],
   "source": [
    "num_of_cat = df['Category'].nunique()\n",
    "list_of_cat = df['Category'].unique()\n",
    "print(f'there are {num_of_cat} categories and they are {list_of_cat}')\n",
    "# Now its down to 29 from 40"
   ]
  },
  {
   "cell_type": "code",
   "execution_count": null,
   "id": "df12c8bf-7c0f-44c2-9af4-bff0da0936a0",
   "metadata": {},
   "outputs": [],
   "source": []
  }
 ],
 "metadata": {
  "kernelspec": {
   "display_name": "Python 3 (ipykernel)",
   "language": "python",
   "name": "python3"
  },
  "language_info": {
   "codemirror_mode": {
    "name": "ipython",
    "version": 3
   },
   "file_extension": ".py",
   "mimetype": "text/x-python",
   "name": "python",
   "nbconvert_exporter": "python",
   "pygments_lexer": "ipython3",
   "version": "3.10.4"
  }
 },
 "nbformat": 4,
 "nbformat_minor": 5
}
