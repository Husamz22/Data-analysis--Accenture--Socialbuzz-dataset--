{
 "cells": [
  {
   "cell_type": "code",
   "execution_count": 32,
   "id": "0f4ffac1-4d70-42d8-9cff-36768eea68df",
   "metadata": {},
   "outputs": [],
   "source": [
    "import pandas as pd\n",
    "import numpy as np\n",
    "import matplotlib.pyplot as plt"
   ]
  },
  {
   "cell_type": "code",
   "execution_count": 15,
   "id": "94bda3a3-cabf-4126-b46e-2c60068248c7",
   "metadata": {},
   "outputs": [],
   "source": [
    "df1 = pd.read_csv('Reactions_cleaned.csv', index_col=None)\n",
    "df2 = pd.read_csv('ReactionTypes_cleaned.csv', index_col=None)\n",
    "df3 = pd.read_csv('Content_cleaned.csv', index_col=None)"
   ]
  },
  {
   "cell_type": "code",
   "execution_count": 25,
   "id": "82fe5db8-65f7-49ca-8452-309a0e80ec01",
   "metadata": {},
   "outputs": [],
   "source": [
    "df = df1.merge(df2, on='Type', how='left')"
   ]
  },
  {
   "cell_type": "code",
   "execution_count": 26,
   "id": "07f951cb-c6e8-47ee-89f4-ece26934541d",
   "metadata": {},
   "outputs": [
    {
     "data": {
      "text/html": [
       "<div>\n",
       "<style scoped>\n",
       "    .dataframe tbody tr th:only-of-type {\n",
       "        vertical-align: middle;\n",
       "    }\n",
       "\n",
       "    .dataframe tbody tr th {\n",
       "        vertical-align: top;\n",
       "    }\n",
       "\n",
       "    .dataframe thead th {\n",
       "        text-align: right;\n",
       "    }\n",
       "</style>\n",
       "<table border=\"1\" class=\"dataframe\">\n",
       "  <thead>\n",
       "    <tr style=\"text-align: right;\">\n",
       "      <th></th>\n",
       "      <th>Content ID</th>\n",
       "      <th>Type</th>\n",
       "      <th>Datetime</th>\n",
       "      <th>Sentiment</th>\n",
       "      <th>Score</th>\n",
       "    </tr>\n",
       "  </thead>\n",
       "  <tbody>\n",
       "    <tr>\n",
       "      <th>0</th>\n",
       "      <td>97522e57-d9ab-4bd6-97bf-c24d952602d2</td>\n",
       "      <td>disgust</td>\n",
       "      <td>11/7/2020 9:43</td>\n",
       "      <td>negative</td>\n",
       "      <td>0</td>\n",
       "    </tr>\n",
       "    <tr>\n",
       "      <th>1</th>\n",
       "      <td>97522e57-d9ab-4bd6-97bf-c24d952602d2</td>\n",
       "      <td>dislike</td>\n",
       "      <td>6/17/2021 12:22</td>\n",
       "      <td>negative</td>\n",
       "      <td>10</td>\n",
       "    </tr>\n",
       "    <tr>\n",
       "      <th>2</th>\n",
       "      <td>97522e57-d9ab-4bd6-97bf-c24d952602d2</td>\n",
       "      <td>scared</td>\n",
       "      <td>4/18/2021 5:13</td>\n",
       "      <td>negative</td>\n",
       "      <td>15</td>\n",
       "    </tr>\n",
       "    <tr>\n",
       "      <th>3</th>\n",
       "      <td>97522e57-d9ab-4bd6-97bf-c24d952602d2</td>\n",
       "      <td>disgust</td>\n",
       "      <td>1/6/2021 19:13</td>\n",
       "      <td>negative</td>\n",
       "      <td>0</td>\n",
       "    </tr>\n",
       "    <tr>\n",
       "      <th>4</th>\n",
       "      <td>97522e57-d9ab-4bd6-97bf-c24d952602d2</td>\n",
       "      <td>interested</td>\n",
       "      <td>8/23/2020 12:25</td>\n",
       "      <td>positive</td>\n",
       "      <td>30</td>\n",
       "    </tr>\n",
       "  </tbody>\n",
       "</table>\n",
       "</div>"
      ],
      "text/plain": [
       "                             Content ID        Type         Datetime  \\\n",
       "0  97522e57-d9ab-4bd6-97bf-c24d952602d2     disgust   11/7/2020 9:43   \n",
       "1  97522e57-d9ab-4bd6-97bf-c24d952602d2     dislike  6/17/2021 12:22   \n",
       "2  97522e57-d9ab-4bd6-97bf-c24d952602d2      scared   4/18/2021 5:13   \n",
       "3  97522e57-d9ab-4bd6-97bf-c24d952602d2     disgust   1/6/2021 19:13   \n",
       "4  97522e57-d9ab-4bd6-97bf-c24d952602d2  interested  8/23/2020 12:25   \n",
       "\n",
       "  Sentiment  Score  \n",
       "0  negative      0  \n",
       "1  negative     10  \n",
       "2  negative     15  \n",
       "3  negative      0  \n",
       "4  positive     30  "
      ]
     },
     "execution_count": 26,
     "metadata": {},
     "output_type": "execute_result"
    }
   ],
   "source": [
    "df.head()"
   ]
  },
  {
   "cell_type": "code",
   "execution_count": 28,
   "id": "f4370356-7338-4ae5-b2ee-a72953f4013f",
   "metadata": {},
   "outputs": [],
   "source": [
    "df = df.merge(df3, on='Content ID', how='left')"
   ]
  },
  {
   "cell_type": "code",
   "execution_count": 29,
   "id": "d6eb69b1-903b-4ee7-a943-1dff87dc4b6f",
   "metadata": {},
   "outputs": [
    {
     "data": {
      "text/html": [
       "<div>\n",
       "<style scoped>\n",
       "    .dataframe tbody tr th:only-of-type {\n",
       "        vertical-align: middle;\n",
       "    }\n",
       "\n",
       "    .dataframe tbody tr th {\n",
       "        vertical-align: top;\n",
       "    }\n",
       "\n",
       "    .dataframe thead th {\n",
       "        text-align: right;\n",
       "    }\n",
       "</style>\n",
       "<table border=\"1\" class=\"dataframe\">\n",
       "  <thead>\n",
       "    <tr style=\"text-align: right;\">\n",
       "      <th></th>\n",
       "      <th>Content ID</th>\n",
       "      <th>Type_x</th>\n",
       "      <th>Datetime</th>\n",
       "      <th>Sentiment</th>\n",
       "      <th>Score</th>\n",
       "      <th>Type_y</th>\n",
       "      <th>Category</th>\n",
       "    </tr>\n",
       "  </thead>\n",
       "  <tbody>\n",
       "    <tr>\n",
       "      <th>0</th>\n",
       "      <td>97522e57-d9ab-4bd6-97bf-c24d952602d2</td>\n",
       "      <td>disgust</td>\n",
       "      <td>11/7/2020 9:43</td>\n",
       "      <td>negative</td>\n",
       "      <td>0</td>\n",
       "      <td>photo</td>\n",
       "      <td>Studying</td>\n",
       "    </tr>\n",
       "    <tr>\n",
       "      <th>1</th>\n",
       "      <td>97522e57-d9ab-4bd6-97bf-c24d952602d2</td>\n",
       "      <td>dislike</td>\n",
       "      <td>6/17/2021 12:22</td>\n",
       "      <td>negative</td>\n",
       "      <td>10</td>\n",
       "      <td>photo</td>\n",
       "      <td>Studying</td>\n",
       "    </tr>\n",
       "    <tr>\n",
       "      <th>2</th>\n",
       "      <td>97522e57-d9ab-4bd6-97bf-c24d952602d2</td>\n",
       "      <td>scared</td>\n",
       "      <td>4/18/2021 5:13</td>\n",
       "      <td>negative</td>\n",
       "      <td>15</td>\n",
       "      <td>photo</td>\n",
       "      <td>Studying</td>\n",
       "    </tr>\n",
       "    <tr>\n",
       "      <th>3</th>\n",
       "      <td>97522e57-d9ab-4bd6-97bf-c24d952602d2</td>\n",
       "      <td>disgust</td>\n",
       "      <td>1/6/2021 19:13</td>\n",
       "      <td>negative</td>\n",
       "      <td>0</td>\n",
       "      <td>photo</td>\n",
       "      <td>Studying</td>\n",
       "    </tr>\n",
       "    <tr>\n",
       "      <th>4</th>\n",
       "      <td>97522e57-d9ab-4bd6-97bf-c24d952602d2</td>\n",
       "      <td>interested</td>\n",
       "      <td>8/23/2020 12:25</td>\n",
       "      <td>positive</td>\n",
       "      <td>30</td>\n",
       "      <td>photo</td>\n",
       "      <td>Studying</td>\n",
       "    </tr>\n",
       "  </tbody>\n",
       "</table>\n",
       "</div>"
      ],
      "text/plain": [
       "                             Content ID      Type_x         Datetime  \\\n",
       "0  97522e57-d9ab-4bd6-97bf-c24d952602d2     disgust   11/7/2020 9:43   \n",
       "1  97522e57-d9ab-4bd6-97bf-c24d952602d2     dislike  6/17/2021 12:22   \n",
       "2  97522e57-d9ab-4bd6-97bf-c24d952602d2      scared   4/18/2021 5:13   \n",
       "3  97522e57-d9ab-4bd6-97bf-c24d952602d2     disgust   1/6/2021 19:13   \n",
       "4  97522e57-d9ab-4bd6-97bf-c24d952602d2  interested  8/23/2020 12:25   \n",
       "\n",
       "  Sentiment  Score Type_y  Category  \n",
       "0  negative      0  photo  Studying  \n",
       "1  negative     10  photo  Studying  \n",
       "2  negative     15  photo  Studying  \n",
       "3  negative      0  photo  Studying  \n",
       "4  positive     30  photo  Studying  "
      ]
     },
     "execution_count": 29,
     "metadata": {},
     "output_type": "execute_result"
    }
   ],
   "source": [
    "df.head()"
   ]
  },
  {
   "cell_type": "code",
   "execution_count": 45,
   "id": "88143ca0-1f6b-4be9-b344-b7436af04e7c",
   "metadata": {},
   "outputs": [],
   "source": [
    "df.describe()\n",
    "df.to_csv('Merged_Tables.CSV')"
   ]
  },
  {
   "cell_type": "code",
   "execution_count": 64,
   "id": "1375fae7-4247-44c6-b5c9-46279fcaa279",
   "metadata": {},
   "outputs": [],
   "source": [
    "df_final= df.groupby(['Category'])['Score'].sum().sort_values(ascending=False)"
   ]
  },
  {
   "cell_type": "code",
   "execution_count": 65,
   "id": "2e19ce9f-833d-4317-92eb-02e978407f96",
   "metadata": {},
   "outputs": [
    {
     "data": {
      "text/plain": [
       "Category\n",
       "animals           69548\n",
       "healthy eating    69067\n",
       "technology        67472\n",
       "science           66043\n",
       "cooking           63982\n",
       "Name: Score, dtype: int64"
      ]
     },
     "execution_count": 65,
     "metadata": {},
     "output_type": "execute_result"
    }
   ],
   "source": [
    "df_final.head()"
   ]
  },
  {
   "cell_type": "code",
   "execution_count": 67,
   "id": "708ffbda-7c1f-4e03-8a42-a1262cce9d8f",
   "metadata": {},
   "outputs": [],
   "source": [
    "df_final.to_csv('Top_5_Categories.CSV')"
   ]
  },
  {
   "cell_type": "code",
   "execution_count": null,
   "id": "7ac673f1-368b-4e17-b690-f5bfbcd4ebc0",
   "metadata": {},
   "outputs": [],
   "source": []
  }
 ],
 "metadata": {
  "kernelspec": {
   "display_name": "Python 3 (ipykernel)",
   "language": "python",
   "name": "python3"
  },
  "language_info": {
   "codemirror_mode": {
    "name": "ipython",
    "version": 3
   },
   "file_extension": ".py",
   "mimetype": "text/x-python",
   "name": "python",
   "nbconvert_exporter": "python",
   "pygments_lexer": "ipython3",
   "version": "3.10.4"
  }
 },
 "nbformat": 4,
 "nbformat_minor": 5
}
